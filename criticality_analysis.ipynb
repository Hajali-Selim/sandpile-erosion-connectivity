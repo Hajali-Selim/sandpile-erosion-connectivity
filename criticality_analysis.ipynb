{
 "cells": [
  {
   "cell_type": "markdown",
   "id": "427c645d",
   "metadata": {},
   "source": [
    "#### Initialisation"
   ]
  },
  {
   "cell_type": "code",
   "execution_count": null,
   "id": "1fa434bc",
   "metadata": {},
   "outputs": [],
   "source": []
  },
  {
   "cell_type": "markdown",
   "id": "36f6d128",
   "metadata": {},
   "source": [
    "#### "
   ]
  }
 ],
 "metadata": {
  "language_info": {
   "name": "python"
  }
 },
 "nbformat": 4,
 "nbformat_minor": 5
}
