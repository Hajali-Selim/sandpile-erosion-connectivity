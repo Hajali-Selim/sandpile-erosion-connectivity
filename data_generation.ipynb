{
 "cells": [
  {
   "cell_type": "markdown",
   "metadata": {},
   "source": [
    "#### Import packages and field data"
   ]
  },
  {
   "cell_type": "code",
   "execution_count": 1,
   "metadata": {},
   "outputs": [],
   "source": [
    "from initialisation import *\n",
    "Vs, Ts = {}, {}\n",
    "\n",
    "# Import empirical vegetation density\n",
    "Vs['grass'] = matrix_to_dict(np.loadtxt('field-data/grassland/vegetation.asc', skiprows=6)[1:-1,1:-1])\n",
    "Vs['shrub'] = matrix_to_dict(np.loadtxt('field-data/shrubland/vegetation.asc', skiprows=6)[1:-1,1:-1])\n",
    "\n",
    "# Import empirical topography\n",
    "Ts['grass'] = matrix_to_dict(np.loadtxt('field-data/grassland/topography.asc', skiprows=6)[1:-1,1:-1])\n",
    "Ts['shrub'] = matrix_to_dict(np.loadtxt('field-data/shrubland/topography.asc', skiprows=6)[1:-1,1:-1])\n",
    "\n",
    "# Create baseline 2D lattice, empirical field data default width=20 and height=60\n",
    "G = generate_baseline_lattice(20,60)\n"
   ]
  },
  {
   "cell_type": "markdown",
   "metadata": {},
   "source": [
    "#### Linear regression between empirical vegetation density score and landscape microtopography"
   ]
  },
  {
   "cell_type": "code",
   "execution_count": 2,
   "metadata": {},
   "outputs": [
    {
     "ename": "KeyError",
     "evalue": "(20, 1)",
     "output_type": "error",
     "traceback": [
      "\u001b[1;31m---------------------------------------------------------------------------\u001b[0m",
      "\u001b[1;31mKeyError\u001b[0m                                  Traceback (most recent call last)",
      "Cell \u001b[1;32mIn[2], line 2\u001b[0m\n\u001b[0;32m      1\u001b[0m \u001b[38;5;66;03m# Compute vegetation density scores on empirical shrubland\u001b[39;00m\n\u001b[1;32m----> 2\u001b[0m score_shrub \u001b[38;5;241m=\u001b[39m \u001b[43mcompute_landscape_vegetation_score\u001b[49m\u001b[43m(\u001b[49m\u001b[43mVs\u001b[49m\u001b[43m[\u001b[49m\u001b[38;5;124;43m'\u001b[39;49m\u001b[38;5;124;43mshrub\u001b[39;49m\u001b[38;5;124;43m'\u001b[39;49m\u001b[43m]\u001b[49m\u001b[43m)\u001b[49m\n\u001b[0;32m      4\u001b[0m \u001b[38;5;66;03m# Linear regression between X (scores) and Y (microtopography) to obtain a slope alpha, an intercept beta and a slope standard deviation alpha_std.\u001b[39;00m\n\u001b[0;32m      5\u001b[0m X, Y \u001b[38;5;241m=\u001b[39m [score_shrub[\u001b[38;5;241m59\u001b[39m\u001b[38;5;241m-\u001b[39mj,i] \u001b[38;5;28;01mfor\u001b[39;00m i,j \u001b[38;5;129;01min\u001b[39;00m G], [Ts[\u001b[38;5;124m'\u001b[39m\u001b[38;5;124mshrub\u001b[39m\u001b[38;5;124m'\u001b[39m][i,j]\u001b[38;5;241m-\u001b[39mnp\u001b[38;5;241m.\u001b[39mmean([Ts[\u001b[38;5;124m'\u001b[39m\u001b[38;5;124mshrub\u001b[39m\u001b[38;5;124m'\u001b[39m][l,j] \u001b[38;5;28;01mfor\u001b[39;00m l \u001b[38;5;129;01min\u001b[39;00m \u001b[38;5;28mrange\u001b[39m(\u001b[38;5;241m20\u001b[39m)]) \u001b[38;5;28;01mfor\u001b[39;00m i,j \u001b[38;5;129;01min\u001b[39;00m G]\n",
      "File \u001b[1;32mc:\\Users\\selim\\Documents\\PhD\\Avalanches\\sandpile-erosion-connectivity\\initialisation.py:260\u001b[0m, in \u001b[0;36mcompute_landscape_vegetation_score\u001b[1;34m(vmat)\u001b[0m\n\u001b[0;32m    258\u001b[0m \u001b[38;5;28;01mfor\u001b[39;00m j \u001b[38;5;129;01min\u001b[39;00m \u001b[38;5;28mrange\u001b[39m(\u001b[38;5;241m1\u001b[39m,\u001b[38;5;241m19\u001b[39m):\n\u001b[0;32m    259\u001b[0m     \u001b[38;5;28;01mfor\u001b[39;00m i \u001b[38;5;129;01min\u001b[39;00m \u001b[38;5;28mrange\u001b[39m(\u001b[38;5;241m1\u001b[39m,\u001b[38;5;241m59\u001b[39m):\n\u001b[1;32m--> 260\u001b[0m         land_scores[i,j] \u001b[38;5;241m=\u001b[39m \u001b[38;5;241m1\u001b[39m\u001b[38;5;241m*\u001b[39mvmat[i,j] \u001b[38;5;241m+\u001b[39m vmat[i\u001b[38;5;241m-\u001b[39m\u001b[38;5;241m1\u001b[39m,j] \u001b[38;5;241m+\u001b[39m \u001b[43mvmat\u001b[49m\u001b[43m[\u001b[49m\u001b[43mi\u001b[49m\u001b[38;5;241;43m+\u001b[39;49m\u001b[38;5;241;43m1\u001b[39;49m\u001b[43m,\u001b[49m\u001b[43mj\u001b[49m\u001b[43m]\u001b[49m \u001b[38;5;241m+\u001b[39m vmat[i,j\u001b[38;5;241m-\u001b[39m\u001b[38;5;241m1\u001b[39m]\u001b[38;5;241m+\u001b[39m vmat[i,j\u001b[38;5;241m+\u001b[39m\u001b[38;5;241m1\u001b[39m]\n\u001b[0;32m    261\u001b[0m         land_scores[i,\u001b[38;5;241m0\u001b[39m] \u001b[38;5;241m=\u001b[39m \u001b[38;5;241m2\u001b[39m\u001b[38;5;241m*\u001b[39mvmat[i,\u001b[38;5;241m0\u001b[39m] \u001b[38;5;241m+\u001b[39m vmat[i\u001b[38;5;241m-\u001b[39m\u001b[38;5;241m1\u001b[39m,\u001b[38;5;241m0\u001b[39m] \u001b[38;5;241m+\u001b[39m vmat[i\u001b[38;5;241m+\u001b[39m\u001b[38;5;241m1\u001b[39m,\u001b[38;5;241m0\u001b[39m] \u001b[38;5;241m+\u001b[39m vmat[i,\u001b[38;5;241m1\u001b[39m]\n\u001b[0;32m    262\u001b[0m         land_scores[i,\u001b[38;5;241m19\u001b[39m] \u001b[38;5;241m=\u001b[39m \u001b[38;5;241m2\u001b[39m\u001b[38;5;241m*\u001b[39mvmat[i,\u001b[38;5;241m19\u001b[39m] \u001b[38;5;241m+\u001b[39m vmat[i\u001b[38;5;241m-\u001b[39m\u001b[38;5;241m1\u001b[39m,\u001b[38;5;241m19\u001b[39m] \u001b[38;5;241m+\u001b[39m vmat[i\u001b[38;5;241m+\u001b[39m\u001b[38;5;241m1\u001b[39m,\u001b[38;5;241m19\u001b[39m] \u001b[38;5;241m+\u001b[39m vmat[i,\u001b[38;5;241m18\u001b[39m]\n",
      "\u001b[1;31mKeyError\u001b[0m: (20, 1)"
     ]
    }
   ],
   "source": [
    "# Compute vegetation density scores on empirical shrubland\n",
    "score_shrub = compute_landscape_vegetation_score(Vs['shrub'])\n",
    "\n",
    "# Linear regression between X (scores) and Y (microtopography) to obtain a slope alpha, an intercept beta and a slope standard deviation alpha_std.\n",
    "X, Y = [score_shrub[59-j,i] for i,j in G], [Ts['shrub'][i,j]-np.mean([Ts['shrub'][l,j] for l in range(20)]) for i,j in G]\n",
    "alpha, beta = np.polyfit(X,Y,1)\n",
    "Y_line = [i*alpha+beta for i in X]\n",
    "alpha_std = np.std([Y[k]-Y_line[k] for k in range(len(G))])\n"
   ]
  },
  {
   "cell_type": "markdown",
   "metadata": {},
   "source": [
    "#### Landscape generation"
   ]
  },
  {
   "cell_type": "code",
   "execution_count": 3,
   "metadata": {},
   "outputs": [
    {
     "ename": "TypeError",
     "evalue": "unhashable type: 'list'",
     "output_type": "error",
     "traceback": [
      "\u001b[1;31m---------------------------------------------------------------------------\u001b[0m",
      "\u001b[1;31mTypeError\u001b[0m                                 Traceback (most recent call last)",
      "Cell \u001b[1;32mIn[3], line 5\u001b[0m\n\u001b[0;32m      2\u001b[0m veg_cover, p_clustering \u001b[38;5;241m=\u001b[39m \u001b[38;5;241m0.3\u001b[39m, \u001b[38;5;241m0.5\u001b[39m\n\u001b[0;32m      4\u001b[0m \u001b[38;5;66;03m# Generate vegetation plot by sampling densities from the shrubland vegetation density distribution, for a cover veg_cover and clustering p_clustering\u001b[39;00m\n\u001b[1;32m----> 5\u001b[0m V \u001b[38;5;241m=\u001b[39m \u001b[43mgenerate_vegetation\u001b[49m\u001b[43m(\u001b[49m\u001b[43mG\u001b[49m\u001b[43m,\u001b[49m\u001b[43m \u001b[49m\u001b[43mveg_cover\u001b[49m\u001b[43m,\u001b[49m\u001b[43m \u001b[49m\u001b[43mp_clustering\u001b[49m\u001b[43m,\u001b[49m\u001b[43m \u001b[49m\u001b[43mVs\u001b[49m\u001b[43m[\u001b[49m\u001b[38;5;124;43m'\u001b[39;49m\u001b[38;5;124;43mshrub\u001b[39;49m\u001b[38;5;124;43m'\u001b[39;49m\u001b[43m]\u001b[49m\u001b[43m)\u001b[49m\n\u001b[0;32m      7\u001b[0m \u001b[38;5;66;03m# Generate topography from the generated shrubland plot V\u001b[39;00m\n\u001b[0;32m      8\u001b[0m T \u001b[38;5;241m=\u001b[39m generate_topography(G, V, alpha, alpha_std, beta)\n",
      "File \u001b[1;32mc:\\Users\\selim\\Documents\\PhD\\Avalanches\\sandpile-erosion-connectivity\\initialisation.py:232\u001b[0m, in \u001b[0;36mgenerate_vegetation\u001b[1;34m(g, ratio_v, pclust, v_source)\u001b[0m\n\u001b[0;32m    221\u001b[0m \u001b[38;5;28;01mdef\u001b[39;00m \u001b[38;5;21mgenerate_vegetation\u001b[39m(g: nx\u001b[38;5;241m.\u001b[39mDiGraph, ratio_v: \u001b[38;5;28mfloat\u001b[39m, pclust: \u001b[38;5;28mfloat\u001b[39m, v_source: \u001b[38;5;28mdict\u001b[39m):\n\u001b[0;32m    222\u001b[0m \u001b[38;5;250m    \u001b[39m\u001b[38;5;124;03m'''\u001b[39;00m\n\u001b[0;32m    223\u001b[0m \u001b[38;5;124;03m    Generate vegetation distribution.\u001b[39;00m\n\u001b[0;32m    224\u001b[0m \u001b[38;5;124;03m    Inputs\u001b[39;00m\n\u001b[1;32m   (...)\u001b[0m\n\u001b[0;32m    230\u001b[0m \u001b[38;5;124;03m        v: vegetation density (value) per node (key), type=dict\u001b[39;00m\n\u001b[0;32m    231\u001b[0m \u001b[38;5;124;03m    '''\u001b[39;00m\n\u001b[1;32m--> 232\u001b[0m     v \u001b[38;5;241m=\u001b[39m {i:\u001b[38;5;241m0\u001b[39m \u001b[38;5;28;01mfor\u001b[39;00m i \u001b[38;5;129;01min\u001b[39;00m g}\n\u001b[0;32m    233\u001b[0m     free_nodes, nb_veg_final, nb_veg, v_sample \u001b[38;5;241m=\u001b[39m \u001b[38;5;28mset\u001b[39m(\u001b[38;5;28mlist\u001b[39m(g)), \u001b[38;5;28mint\u001b[39m(\u001b[38;5;28mlen\u001b[39m(g)\u001b[38;5;241m*\u001b[39mratio_v), \u001b[38;5;241m0\u001b[39m, \u001b[38;5;28mlist\u001b[39m(i \u001b[38;5;28;01mfor\u001b[39;00m i \u001b[38;5;129;01min\u001b[39;00m v_source\u001b[38;5;241m.\u001b[39mvalues() \u001b[38;5;28;01mif\u001b[39;00m i\u001b[38;5;241m>\u001b[39m\u001b[38;5;241m0\u001b[39m)\n\u001b[0;32m    234\u001b[0m     node \u001b[38;5;241m=\u001b[39m random\u001b[38;5;241m.\u001b[39mchoice(\u001b[38;5;28mlist\u001b[39m(free_nodes))\n",
      "\u001b[1;31mTypeError\u001b[0m: unhashable type: 'list'"
     ]
    }
   ],
   "source": [
    "# Enter vegetation parameters\n",
    "veg_cover, p_clustering = 0.3, 0.5\n",
    "\n",
    "# Generate vegetation plot by sampling densities from the shrubland vegetation density distribution, for a cover veg_cover and clustering p_clustering\n",
    "V = generate_vegetation(G, veg_cover, p_clustering, Vs['shrub'])\n",
    "\n",
    "# Generate topography from the generated shrubland plot V\n",
    "T = generate_topography(G, V, alpha, alpha_std, beta)\n"
   ]
  },
  {
   "cell_type": "markdown",
   "metadata": {},
   "source": [
    "#### Visualisation of the generated landscape"
   ]
  },
  {
   "cell_type": "code",
   "execution_count": null,
   "metadata": {},
   "outputs": [],
   "source": [
    "MT = [T[(i,j)]-np.mean([T[i,k] for k in range(59)]) for i,j in G]\n",
    "\n",
    "fig, ax = plt.subplots(1,2, tight_layout=True)\n",
    "p = [ax[0].imshow(dict_to_mat(V), cmap='Greens'), ax[1].imshow(dict_to_mat(MT), cmap='rainbow')]\n",
    "_ = [ax[k].set_xticks([]) for k in range(2)]\n",
    "_ = [ax[k].set_yticks([]) for k in range(2)]\n",
    "cbar = [fig.colorbar(p[k], ax=ax[k], orientation='horizontal', shrink=.7) for k in range(2)]\n",
    "cbar[0].set_label('vegetation density')\n",
    "cbar[1].set_label('microtopography ($\\\\micro$ m)')\n",
    "_ = ax[0].set_title('Generated\\n vegetation')\n",
    "_ = ax[1].set_title('Generated\\n microtopography')\n",
    "plt.show()\n"
   ]
  },
  {
   "cell_type": "markdown",
   "metadata": {},
   "source": [
    "#### Reconstruction of shrubland microtopography as a test"
   ]
  },
  {
   "cell_type": "code",
   "execution_count": null,
   "metadata": {},
   "outputs": [],
   "source": [
    "MT_shrub = [Ts['shrub'][(i,j)]-np.mean([Ts['shrub'][i,k] for k in range(59)]) for i,j in G]\n",
    "T_shrub_reconstructed = generate_topography(G, Vs['shrub'], alpha, alpha_std, beta)\n",
    "MT_shrub_reconstructed = [T_shrub_reconstructed[(i,j)]-np.mean([T_shrub_reconstructed[i,k] for k in range(59)]) for i,j in G]\n",
    "\n",
    "fig, ax = plt.subplots(1,3, tight_layout=True)\n",
    "p = [ax[0].imshow(dict_to_mat(V), cmap='Greens'), ax[1].imshow(dict_to_mat(MT), cmap='rainbow'), ax[2].imshow(dict_to_mat(MT), cmap='rainbow')]\n",
    "_ = [ax[k].set_xticks([]) for k in range(3)]\n",
    "_ = [ax[k].set_yticks([]) for k in range(3)]\n",
    "cbar = [fig.colorbar(p[k], ax=ax[k], orientation='horizontal', shrink=.7) for k in range(3)]\n",
    "cbar[0].set_label('vegetation density')\n",
    "cbar[1].set_label('microtopography ($\\\\micro$ m)')\n",
    "cbar[2].set_label('microtopography ($\\\\micro$ m)')\n",
    "_ = ax[0].set_title('Shrubland vegetation')\n",
    "_ = ax[1].set_title('Original shrubland\\nmicrotopography')\n",
    "_ = ax[2].set_title('Reconstructed shrubland\\nmicrotopography')\n",
    "plt.show()\n"
   ]
  }
 ],
 "metadata": {
  "kernelspec": {
   "display_name": "Python 3",
   "language": "python",
   "name": "python3"
  },
  "language_info": {
   "codemirror_mode": {
    "name": "ipython",
    "version": 3
   },
   "file_extension": ".py",
   "mimetype": "text/x-python",
   "name": "python",
   "nbconvert_exporter": "python",
   "pygments_lexer": "ipython3",
   "version": "3.12.10"
  }
 },
 "nbformat": 4,
 "nbformat_minor": 2
}
