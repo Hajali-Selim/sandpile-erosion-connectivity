{
 "cells": [
  {
   "cell_type": "markdown",
   "metadata": {},
   "source": [
    "#### Import packages and field data"
   ]
  },
  {
   "cell_type": "code",
   "execution_count": null,
   "metadata": {},
   "outputs": [],
   "source": [
    "from initialisation import *\n",
    "Vs, Ts = {}, {}\n",
    "\n",
    "# Import empirical vegetation density\n",
    "Vs['grass'] = matrix_to_dict(np.loadtxt('field-data/grassland/vegetation.asc', skiprows=6)[1:-1,1:-1])\n",
    "Vs['shrub'] = matrix_to_dict(np.loadtxt('field-data/shrubland/vegetation.asc', skiprows=6)[1:-1,1:-1])\n",
    "\n",
    "# Import empirical topography\n",
    "Ts['grass'] = matrix_to_dict(np.loadtxt('field-data/grassland/topography.asc', skiprows=6)[1:-1,1:-1])\n",
    "Ts['shrub'] = matrix_to_dict(np.loadtxt('field-data/shrubland/topography.asc', skiprows=6)[1:-1,1:-1])\n",
    "\n",
    "# Create baseline 2D lattice, empirical field data default width=20 and height=60\n",
    "G = generate_baseline_lattice(20,60)\n"
   ]
  },
  {
   "cell_type": "markdown",
   "metadata": {},
   "source": [
    "#### Linear regression between empirical vegetation density score and landscape microtopography"
   ]
  },
  {
   "cell_type": "code",
   "execution_count": null,
   "metadata": {},
   "outputs": [],
   "source": [
    "# Compute vegetation density scores on empirical shrubland\n",
    "score_shrub = compute_landscape_vegetation_score(Vs['shrub'])\n",
    "\n",
    "# Linear regression between X (scores) and Y (microtopography) to obtain a slope alpha, an intercept beta and a slope standard deviation alpha_std.\n",
    "X, Y = [score_shrub[59-j,i] for i,j in G], [Ts['shrub'][i,j]-np.mean([Ts['shrub'][l,j] for l in range(20)]) for i,j in G]\n",
    "alpha, beta = np.polyfit(X,Y,1)\n",
    "Y_line = [i*alpha+beta for i in X]\n",
    "alpha_std = np.std([Y[k]-Y_line[k] for k in range(len(G))])\n"
   ]
  },
  {
   "cell_type": "markdown",
   "metadata": {},
   "source": [
    "#### Landscape generation"
   ]
  },
  {
   "cell_type": "code",
   "execution_count": null,
   "metadata": {},
   "outputs": [],
   "source": [
    "# Enter vegetation parameters\n",
    "veg_cover, p_clustering = 0.3, 0.5\n",
    "\n",
    "# Generate vegetation plot by sampling densities from the shrubland vegetation density distribution, for a cover veg_cover and clustering p_clustering\n",
    "V = generate_vegetation(G, veg_cover, p_clustering, Vs['shrub'])\n",
    "\n",
    "# Generate topography from the generated shrubland plot V\n",
    "T = generate_topography(G, V, alpha, alpha_std, beta)\n"
   ]
  },
  {
   "cell_type": "markdown",
   "metadata": {},
   "source": [
    "#### Visualisation of the generated landscape"
   ]
  },
  {
   "cell_type": "code",
   "execution_count": null,
   "metadata": {},
   "outputs": [],
   "source": []
  },
  {
   "cell_type": "markdown",
   "metadata": {},
   "source": [
    "#### Reconstruction of shrubland microtopography as a test"
   ]
  },
  {
   "cell_type": "code",
   "execution_count": null,
   "metadata": {},
   "outputs": [],
   "source": []
  }
 ],
 "metadata": {
  "language_info": {
   "name": "python"
  }
 },
 "nbformat": 4,
 "nbformat_minor": 2
}
