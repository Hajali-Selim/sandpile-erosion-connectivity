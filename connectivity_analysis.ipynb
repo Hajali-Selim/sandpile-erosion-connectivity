{
 "cells": [
  {
   "cell_type": "markdown",
   "metadata": {},
   "source": [
    "#### Import field data"
   ]
  },
  {
   "cell_type": "code",
   "execution_count": 2,
   "metadata": {},
   "outputs": [],
   "source": [
    "from initialisation import *\n",
    "\n",
    "Vs, Ts, FC_star = {}, {}, {}\n",
    "\n",
    "# Import empirical vegetation density\n",
    "Vs['grass'] = matrix_to_dict(np.loadtxt('field-data/grassland/vegetation.asc', skiprows=6)[1:-1,1:-1])\n",
    "Vs['shrub'] = matrix_to_dict(np.loadtxt('field-data/shrubland/vegetation.asc', skiprows=6)[1:-1,1:-1])\n",
    "\n",
    "# Import empirical topography\n",
    "Ts['grass'] = matrix_to_dict(np.loadtxt('field-data/grassland/topography.asc', skiprows=6)[1:-1,1:-1])\n",
    "Ts['shrub'] = matrix_to_dict(np.loadtxt('field-data/shrubland/topography.asc', skiprows=6)[1:-1,1:-1])\n",
    "\n",
    "# Import MAHLERAN sediment functional connectivity\n",
    "FC_star['grass'] = matrix_to_dict(np.loadtxt('MAHLERAN-data/grassland/sediment-connectivity.asc', skiprows=6)[1:-1,1:-1])\n",
    "FC_star['shrub'] = matrix_to_dict(np.loadtxt('MAHLERAN-data/shrubland/sediment-connectivity.asc', skiprows=6)[1:-1,1:-1])\n"
   ]
  },
  {
   "cell_type": "markdown",
   "metadata": {},
   "source": [
    "#### Initialise lattice"
   ]
  },
  {
   "cell_type": "code",
   "execution_count": 8,
   "metadata": {},
   "outputs": [
    {
     "name": "stdout",
     "output_type": "stream",
     "text": [
      "Computing node coupling dictionary...\n",
      "Computing SC...\n",
      "<class 'networkx.classes.digraph.DiGraph'>\n"
     ]
    },
    {
     "ename": "TypeError",
     "evalue": "tuple indices must be integers or slices, not tuple",
     "output_type": "error",
     "traceback": [
      "\u001b[1;31m---------------------------------------------------------------------------\u001b[0m",
      "\u001b[1;31mTypeError\u001b[0m                                 Traceback (most recent call last)",
      "Cell \u001b[1;32mIn[8], line 14\u001b[0m\n\u001b[0;32m     12\u001b[0m \u001b[38;5;28mprint\u001b[39m(\u001b[38;5;124m'\u001b[39m\u001b[38;5;124mComputing SC...\u001b[39m\u001b[38;5;124m'\u001b[39m)\n\u001b[0;32m     13\u001b[0m \u001b[38;5;28mprint\u001b[39m(\u001b[38;5;28mtype\u001b[39m(G))\n\u001b[1;32m---> 14\u001b[0m SC \u001b[38;5;241m=\u001b[39m \u001b[43mcompute_SC\u001b[49m\u001b[43m(\u001b[49m\u001b[43mG\u001b[49m\u001b[43m,\u001b[49m\u001b[43m \u001b[49m\u001b[43mslope_per_edge\u001b[49m\u001b[43m)\u001b[49m\n",
      "File \u001b[1;32mc:\\Users\\selim\\Documents\\PhD\\Avalanches\\sandpile-erosion-connectivity\\initialisation.py:164\u001b[0m, in \u001b[0;36mcompute_SC\u001b[1;34m(g, slope_per_edge)\u001b[0m\n\u001b[0;32m    162\u001b[0m \u001b[38;5;28;01mfor\u001b[39;00m i \u001b[38;5;129;01min\u001b[39;00m \u001b[38;5;28mrange\u001b[39m(\u001b[38;5;241m20\u001b[39m):\n\u001b[0;32m    163\u001b[0m     v1 \u001b[38;5;241m=\u001b[39m (i,j)\n\u001b[1;32m--> 164\u001b[0m     gconn\u001b[38;5;241m.\u001b[39madd_weighted_edges_from([(v1,v2,\u001b[43mslope_per_edge\u001b[49m\u001b[43m[\u001b[49m\u001b[43m(\u001b[49m\u001b[43mv1\u001b[49m\u001b[43m,\u001b[49m\u001b[43mv2\u001b[49m\u001b[43m)\u001b[49m\u001b[43m]\u001b[49m) \u001b[38;5;28;01mfor\u001b[39;00m v2 \u001b[38;5;129;01min\u001b[39;00m next_layer_successors[v1]])\n\u001b[0;32m    165\u001b[0m     gconn\u001b[38;5;241m.\u001b[39madd_weighted_edges_from(\u001b[38;5;28msum\u001b[39m([[(v1,v3,gconn[v2][v3][\u001b[38;5;124m'\u001b[39m\u001b[38;5;124mweight\u001b[39m\u001b[38;5;124m'\u001b[39m]) \u001b[38;5;28;01mfor\u001b[39;00m v3 \u001b[38;5;129;01min\u001b[39;00m gconn\u001b[38;5;241m.\u001b[39msuccessors(v2)] \u001b[38;5;28;01mfor\u001b[39;00m v2 \u001b[38;5;129;01min\u001b[39;00m next_layer_successors[v1]],[]))\n\u001b[0;32m    166\u001b[0m \u001b[38;5;28;01mfor\u001b[39;00m v1 \u001b[38;5;129;01min\u001b[39;00m sort_layer(same_layer_successors):\n",
      "\u001b[1;31mTypeError\u001b[0m: tuple indices must be integers or slices, not tuple"
     ]
    }
   ],
   "source": [
    "# Create baseline 2D lattice, empirical field data default width=20 and height=60\n",
    "G, bulk_nodes = generate_baseline_lattice(20,60)\n",
    "\n",
    "# Adapt G to shrubland empirical data, assuming deterministic dynamics\n",
    "G_deter = adapt_lattice_to_topography(G, Ts['shrub'], 'deterministic')\n",
    "\n",
    "# Initialise simulation\n",
    "S, current, branches, new_active, size = declare_simulation_variables(G_deter)\n",
    "print('Computing node coupling dictionary...')\n",
    "#C = create_node_coupling_dictionary(G_deter)\n",
    "slope_per_edge = compute_slope_differences(G_deter, Ts['shrub'])\n",
    "print('Computing SC...')\n",
    "print(type(G))\n",
    "SC = compute_SC(G, slope_per_edge)\n"
   ]
  },
  {
   "cell_type": "markdown",
   "metadata": {},
   "source": [
    "#### Simulation run"
   ]
  },
  {
   "cell_type": "code",
   "execution_count": null,
   "metadata": {},
   "outputs": [],
   "source": []
  },
  {
   "cell_type": "markdown",
   "metadata": {},
   "source": [
    "#### Avalanche size analysis"
   ]
  },
  {
   "cell_type": "code",
   "execution_count": null,
   "metadata": {},
   "outputs": [],
   "source": []
  }
 ],
 "metadata": {
  "kernelspec": {
   "display_name": "Python 3",
   "language": "python",
   "name": "python3"
  },
  "language_info": {
   "codemirror_mode": {
    "name": "ipython",
    "version": 3
   },
   "file_extension": ".py",
   "mimetype": "text/x-python",
   "name": "python",
   "nbconvert_exporter": "python",
   "pygments_lexer": "ipython3",
   "version": "3.12.10"
  }
 },
 "nbformat": 4,
 "nbformat_minor": 2
}
