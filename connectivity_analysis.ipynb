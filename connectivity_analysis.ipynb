{
 "cells": [
  {
   "cell_type": "markdown",
   "metadata": {},
   "source": [
    "#### Import field data"
   ]
  },
  {
   "cell_type": "code",
   "execution_count": 1,
   "metadata": {},
   "outputs": [],
   "source": [
    "from initialisation import *\n",
    "\n",
    "Vs, Ts, FC_star = {}, {}, {}\n",
    "\n",
    "# Import empirical vegetation density\n",
    "Vs['grass'] = matrix_to_dict(np.loadtxt('field-data/grassland/vegetation.asc', skiprows=6)[1:-1,1:-1])\n",
    "Vs['shrub'] = matrix_to_dict(np.loadtxt('field-data/shrubland/vegetation.asc', skiprows=6)[1:-1,1:-1])\n",
    "\n",
    "# Import empirical topography\n",
    "Ts['grass'] = matrix_to_dict(np.loadtxt('field-data/grassland/topography.asc', skiprows=6)[1:-1,1:-1])\n",
    "Ts['shrub'] = matrix_to_dict(np.loadtxt('field-data/shrubland/topography.asc', skiprows=6)[1:-1,1:-1])\n",
    "\n",
    "# Import MAHLERAN sediment functional connectivity\n",
    "FC_star['grass'] = matrix_to_dict(np.loadtxt('MAHLERAN-data/grassland/sediment-connectivity.asc', skiprows=6)[1:-1,1:-1])\n",
    "FC_star['shrub'] = matrix_to_dict(np.loadtxt('MAHLERAN-data/shrubland/sediment-connectivity.asc', skiprows=6)[1:-1,1:-1])\n"
   ]
  },
  {
   "cell_type": "markdown",
   "metadata": {},
   "source": [
    "#### Initialise lattice"
   ]
  },
  {
   "cell_type": "code",
   "execution_count": 2,
   "metadata": {},
   "outputs": [
    {
     "ename": "AttributeError",
     "evalue": "'tuple' object has no attribute 'nodes'",
     "output_type": "error",
     "traceback": [
      "\u001b[1;31m---------------------------------------------------------------------------\u001b[0m",
      "\u001b[1;31mAttributeError\u001b[0m                            Traceback (most recent call last)",
      "Cell \u001b[1;32mIn[2], line 5\u001b[0m\n\u001b[0;32m      2\u001b[0m G \u001b[38;5;241m=\u001b[39m generate_baseline_lattice(\u001b[38;5;241m20\u001b[39m,\u001b[38;5;241m60\u001b[39m)\n\u001b[0;32m      4\u001b[0m \u001b[38;5;66;03m# Adapt G to shrubland empirical data, assuming deterministic dynamics\u001b[39;00m\n\u001b[1;32m----> 5\u001b[0m G_deter \u001b[38;5;241m=\u001b[39m \u001b[43madapt_lattice_to_topography\u001b[49m\u001b[43m(\u001b[49m\u001b[43mG\u001b[49m\u001b[43m,\u001b[49m\u001b[43m \u001b[49m\u001b[43mTs\u001b[49m\u001b[43m[\u001b[49m\u001b[38;5;124;43m'\u001b[39;49m\u001b[38;5;124;43mshrub\u001b[39;49m\u001b[38;5;124;43m'\u001b[39;49m\u001b[43m]\u001b[49m\u001b[43m,\u001b[49m\u001b[43m \u001b[49m\u001b[38;5;124;43m'\u001b[39;49m\u001b[38;5;124;43mdeterministic\u001b[39;49m\u001b[38;5;124;43m'\u001b[39;49m\u001b[43m)\u001b[49m\n\u001b[0;32m      7\u001b[0m \u001b[38;5;66;03m# Initialise simulation\u001b[39;00m\n\u001b[0;32m      8\u001b[0m S, current, branches, new_active, size \u001b[38;5;241m=\u001b[39m declare_simulation_variables(G_deter)\n",
      "File \u001b[1;32mc:\\Users\\selim\\Documents\\PhD\\Avalanches\\sandpile-erosion-connectivity\\initialisation.py:47\u001b[0m, in \u001b[0;36madapt_lattice_to_topography\u001b[1;34m(g, t, dyn)\u001b[0m\n\u001b[0;32m     37\u001b[0m \u001b[38;5;250m\u001b[39m\u001b[38;5;124;03m'''\u001b[39;00m\n\u001b[0;32m     38\u001b[0m \u001b[38;5;124;03mAdapt lattice to topography for probabilistic or deterministic descent sandpile simulations.\u001b[39;00m\n\u001b[0;32m     39\u001b[0m \u001b[38;5;124;03mInputs\u001b[39;00m\n\u001b[1;32m   (...)\u001b[0m\n\u001b[0;32m     44\u001b[0m \u001b[38;5;124;03m    g_prob: lattice adapted to topography\u001b[39;00m\n\u001b[0;32m     45\u001b[0m \u001b[38;5;124;03m'''\u001b[39;00m\n\u001b[0;32m     46\u001b[0m g_prob \u001b[38;5;241m=\u001b[39m nx\u001b[38;5;241m.\u001b[39mDiGraph()\n\u001b[1;32m---> 47\u001b[0m g_prob\u001b[38;5;241m.\u001b[39madd_nodes_from(\u001b[43mg\u001b[49m\u001b[38;5;241;43m.\u001b[39;49m\u001b[43mnodes\u001b[49m)\n\u001b[0;32m     48\u001b[0m \u001b[38;5;28;01mfor\u001b[39;00m i \u001b[38;5;129;01min\u001b[39;00m g:\n\u001b[0;32m     49\u001b[0m     \u001b[38;5;28;01mfor\u001b[39;00m j \u001b[38;5;129;01min\u001b[39;00m g\u001b[38;5;241m.\u001b[39msuccessors(i):\n",
      "\u001b[1;31mAttributeError\u001b[0m: 'tuple' object has no attribute 'nodes'"
     ]
    }
   ],
   "source": [
    "# Create baseline 2D lattice, empirical field data default width=20 and height=60\n",
    "G = generate_baseline_lattice(20,60)\n",
    "\n",
    "# Adapt G to shrubland empirical data, assuming deterministic dynamics\n",
    "G_deter = adapt_lattice_to_topography(G, Ts['shrub'], 'deterministic')\n",
    "\n",
    "# Initialise simulation\n",
    "S, current, branches, new_active, size = declare_simulation_variables(G_deter)\n",
    "C = create_node_coupling_dictionary(G_deter)\n",
    "SC = compute_SC(C)\n"
   ]
  },
  {
   "cell_type": "markdown",
   "metadata": {},
   "source": [
    "#### Simulation run"
   ]
  },
  {
   "cell_type": "code",
   "execution_count": null,
   "metadata": {},
   "outputs": [],
   "source": []
  },
  {
   "cell_type": "markdown",
   "metadata": {},
   "source": [
    "#### Avalanche size analysis"
   ]
  },
  {
   "cell_type": "code",
   "execution_count": null,
   "metadata": {},
   "outputs": [],
   "source": []
  }
 ],
 "metadata": {
  "kernelspec": {
   "display_name": "Python 3",
   "language": "python",
   "name": "python3"
  },
  "language_info": {
   "codemirror_mode": {
    "name": "ipython",
    "version": 3
   },
   "file_extension": ".py",
   "mimetype": "text/x-python",
   "name": "python",
   "nbconvert_exporter": "python",
   "pygments_lexer": "ipython3",
   "version": "3.12.10"
  }
 },
 "nbformat": 4,
 "nbformat_minor": 2
}
