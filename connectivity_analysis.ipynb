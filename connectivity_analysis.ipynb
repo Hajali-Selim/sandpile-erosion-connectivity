{
 "cells": [
  {
   "cell_type": "markdown",
   "metadata": {},
   "source": [
    "#### Import field data"
   ]
  },
  {
   "cell_type": "code",
   "execution_count": 1,
   "metadata": {},
   "outputs": [
    {
     "name": "stdout",
     "output_type": "stream",
     "text": [
      "(60, 20)\n",
      "(60, 20)\n",
      "(60, 20)\n",
      "(60, 20)\n",
      "(60, 20)\n",
      "(60, 20)\n"
     ]
    }
   ],
   "source": [
    "from initialisation import *\n",
    "\n",
    "Vs, Ts, FC_star = {}, {}, {}\n",
    "\n",
    "# Import empirical vegetation density\n",
    "Vs['grass'] = matrix_to_dict(np.loadtxt('field-data/grassland/vegetation.asc', skiprows=6)[1:-1,1:-1])\n",
    "Vs['shrub'] = matrix_to_dict(np.loadtxt('field-data/shrubland/vegetation.asc', skiprows=6)[1:-1,1:-1])\n",
    "\n",
    "# Import empirical topography\n",
    "Ts['grass'] = matrix_to_dict(np.loadtxt('field-data/grassland/topography.asc', skiprows=6)[1:-1,1:-1])\n",
    "Ts['shrub'] = matrix_to_dict(np.loadtxt('field-data/shrubland/topography.asc', skiprows=6)[1:-1,1:-1])\n",
    "\n",
    "# Import MAHLERAN sediment functional connectivity\n",
    "FC_star['grass'] = matrix_to_dict(np.loadtxt('MAHLERAN-data/grassland/sediment-connectivity.asc', skiprows=6)[1:-1,1:-1])\n",
    "FC_star['shrub'] = matrix_to_dict(np.loadtxt('MAHLERAN-data/shrubland/sediment-connectivity.asc', skiprows=6)[1:-1,1:-1])\n"
   ]
  },
  {
   "cell_type": "markdown",
   "metadata": {},
   "source": [
    "#### Initialise lattice"
   ]
  },
  {
   "cell_type": "code",
   "execution_count": null,
   "metadata": {},
   "outputs": [],
   "source": [
    "# Create baseline 2D lattice, empirical field data default width=20 and height=60\n",
    "G = generate_baseline_lattice(20,60)\n",
    "\n",
    "# Adapt G to shrubland empirical data, assuming deterministic dynamics\n",
    "G_deter = adapt_to_topography_probabilistic(G, T['shrub'], 'deterministic')\n",
    "\n",
    "# Initialise simulation\n",
    "S, C, current, branches, new_active, size = declare_simulation_variables(G_deter)\n",
    "\n",
    "\n",
    "\n",
    "\n"
   ]
  },
  {
   "cell_type": "markdown",
   "metadata": {},
   "source": [
    "#### Import field data"
   ]
  },
  {
   "cell_type": "markdown",
   "metadata": {},
   "source": [
    "#### Deterministic descent"
   ]
  },
  {
   "cell_type": "markdown",
   "metadata": {},
   "source": [
    "#### Probabilistic descent"
   ]
  },
  {
   "cell_type": "markdown",
   "metadata": {},
   "source": [
    "#### Avalanche size analysis"
   ]
  }
 ],
 "metadata": {
  "kernelspec": {
   "display_name": "Python 3",
   "language": "python",
   "name": "python3"
  },
  "language_info": {
   "codemirror_mode": {
    "name": "ipython",
    "version": 3
   },
   "file_extension": ".py",
   "mimetype": "text/x-python",
   "name": "python",
   "nbconvert_exporter": "python",
   "pygments_lexer": "ipython3",
   "version": "3.12.10"
  }
 },
 "nbformat": 4,
 "nbformat_minor": 2
}
