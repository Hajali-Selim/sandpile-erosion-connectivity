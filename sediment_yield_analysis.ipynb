{
 "cells": [
  {
   "cell_type": "markdown",
   "metadata": {},
   "source": [
    "#### Initialise lattice"
   ]
  },
  {
   "cell_type": "code",
   "execution_count": null,
   "metadata": {},
   "outputs": [],
   "source": [
    "from initialisation import *\n",
    "\n",
    "# Import empirical vegetation density\n",
    "Vs = {landscape: matrix_to_dict(np.loadtxt('field-data/'+landscape+'/vegetation.asc', skiprows=6)[1:-1,1:-1]/100) for landscape in ['shrubland', 'grassland']}\n",
    "\n",
    "# Import empirical topography\n",
    "Ts = {landscape: matrix_to_dict(np.loadtxt('field-data/'+landscape+'/topography.asc', skiprows=6)[1:-1,1:-1]) for landscape in ['shrubland', 'grassland']}\n"
   ]
  },
  {
   "cell_type": "markdown",
   "metadata": {},
   "source": [
    "#### Import rainfall and sediment empirical data"
   ]
  },
  {
   "cell_type": "code",
   "execution_count": null,
   "metadata": {},
   "outputs": [],
   "source": []
  },
  {
   "cell_type": "markdown",
   "metadata": {},
   "source": [
    "#### Simulation run"
   ]
  }
 ],
 "metadata": {
  "language_info": {
   "name": "python"
  }
 },
 "nbformat": 4,
 "nbformat_minor": 2
}
