{
 "cells": [
  {
   "cell_type": "markdown",
   "metadata": {},
   "source": [
    "#### Initialise lattice"
   ]
  },
  {
   "cell_type": "code",
   "execution_count": 1,
   "metadata": {},
   "outputs": [],
   "source": [
    "from initialisation import *\n",
    "\n",
    "# Import empirical vegetation density\n",
    "Vs = {landscape: matrix_to_dict(np.loadtxt('field-data/'+landscape+'/vegetation.asc', skiprows=6)[1:-1,1:-1]/100) for landscape in ['shrubland', 'grassland']}\n",
    "\n",
    "# Import empirical topography\n",
    "Ts = {landscape: matrix_to_dict(np.loadtxt('field-data/'+landscape+'/topography.asc', skiprows=6)[1:-1,1:-1]) for landscape in ['shrubland', 'grassland']}\n"
   ]
  },
  {
   "cell_type": "markdown",
   "metadata": {},
   "source": [
    "#### Import rainfall and sediment empirical data"
   ]
  },
  {
   "cell_type": "code",
   "execution_count": null,
   "metadata": {},
   "outputs": [],
   "source": [
    "events = ['grassland 07.09.05', 'grassland 05.07.06', 'grassland 29.08.06', 'grassland 07.09.06', 'shrubland 07.09.05', 'shrubland 05.07.06','shrubland 28.07.06', 'shrubland 11.08.06', 'shrubland 23.08.06']\n",
    "nb_events = len(events)\n",
    "data_tables = np.zeros(nb_events, pd.DataFrame)\n",
    "for i in range(nb_events):\n",
    "    data_tables[i] = pd.read_excel('field-data/monitored_rainfall_events.xlsx', sheet_name=events[i])\n"
   ]
  },
  {
   "cell_type": "markdown",
   "metadata": {},
   "source": [
    "#### Visualisation"
   ]
  },
  {
   "cell_type": "code",
   "execution_count": null,
   "metadata": {},
   "outputs": [],
   "source": []
  },
  {
   "cell_type": "markdown",
   "metadata": {},
   "source": [
    "#### Simulation run"
   ]
  }
 ],
 "metadata": {
  "kernelspec": {
   "display_name": "base",
   "language": "python",
   "name": "python3"
  },
  "language_info": {
   "codemirror_mode": {
    "name": "ipython",
    "version": 3
   },
   "file_extension": ".py",
   "mimetype": "text/x-python",
   "name": "python",
   "nbconvert_exporter": "python",
   "pygments_lexer": "ipython3",
   "version": "3.12.3"
  }
 },
 "nbformat": 4,
 "nbformat_minor": 2
}
