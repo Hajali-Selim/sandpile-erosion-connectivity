{
 "cells": [
  {
   "cell_type": "markdown",
   "id": "92316113",
   "metadata": {},
   "source": [
    "#### Import packages"
   ]
  },
  {
   "cell_type": "code",
   "execution_count": null,
   "id": "9dbf72d4",
   "metadata": {},
   "outputs": [],
   "source": [
    "import networkx as nx\n",
    "import numpy as np\n",
    "import matplotlib.pyplot as plt\n",
    "from itertools import product, combinations"
   ]
  },
  {
   "cell_type": "markdown",
   "id": "69032129",
   "metadata": {},
   "source": [
    "#### Functions"
   ]
  },
  {
   "cell_type": "code",
   "execution_count": null,
   "id": "823fe20d",
   "metadata": {},
   "outputs": [],
   "source": [
    "def create_baseline_lattice(x: int, y: int):\n",
    "    '''\n",
    "    Create a baseline directed 2D lattice where all lateral and downwards directions are allowed.\n",
    "    Inputs:\n",
    "        x: number of nodes per row, type=int\n",
    "        y: number of nodes per column, type=int\n",
    "    Outputs\n",
    "        g: 2D lattice, type=nx.diGraph\n",
    "        bulk_nodes: list of non-outflow nodes, type=list\n",
    "    '''\n",
    "    g = nx.grid_2d_graph(x,int(y))\n",
    "    g.remove_edges_from([((i1,0),(i1+1,0)) for i1 in range(x-1)])\n",
    "    g = g.to_directed()\n",
    "    g.remove_edges_from([((i1,i2),(i1,i2+1)) for i1,i2 in product(range(x), range(int(y)-1))])\n",
    "    g.add_edges_from([((0,i2),(x-1,i2)) for i2 in range(1,int(y))]+[((x-1,i2),(0,i2)) for i2 in range(1,int(y))])\n",
    "    bulk_nodes = [i for i in g if i not in [(i, 0) for i in range(x)]]\n",
    "    return g, bulk_nodes\n",
    "\n",
    "def declare_simulation_variables(g):\n",
    "    '''\n",
    "    Initialise all the variables required for a sandpile simulation.\n",
    "    Input\n",
    "        g: landscape lattice, type=nx.diGraph\n",
    "    Outputs\n",
    "        state: number of particles per node, type=dict\n",
    "        coupling: distances covered by particles exchanged between nodes, type=dict\n",
    "        current_av: nodes participating in the currently occuring avalanche, empty during accumulation phase, type=list\n",
    "        branches: length of branches described by the currently occuring avalanche, type=dict\n",
    "        new_active: nodes having received particles during the last time step, type=list\n",
    "        size: list of avalanche sizes having occured during the entire simulation, type=list\n",
    "    '''\n",
    "    state, coupling, current_av, branches, new_active, size, ordlist = {}, {}, [], {}, [], [], sorted(list(g), key=lambda a:a[1], reverse=True)\n",
    "    for i in g:\n",
    "        state[i], coupling[i] = 0, {}\n",
    "    for i,j in combinations(ordlist, 2):\n",
    "        if nx.has_path(g,i,j):\n",
    "            coupling[i][j] = []\n",
    "        if i[1] == j[1]:\t\t# for tgrid\n",
    "            if nx.has_path(g,j,i):\n",
    "                coupling[j][i] = []\n",
    "    return state, coupling, current_av, branches, new_active, size\n",
    "\n"
   ]
  }
 ],
 "metadata": {
  "language_info": {
   "name": "python"
  }
 },
 "nbformat": 4,
 "nbformat_minor": 5
}
